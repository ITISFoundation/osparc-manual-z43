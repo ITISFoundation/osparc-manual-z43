{
 "cells": [
  {
   "cell_type": "markdown",
   "metadata": {},
   "source": [
    "# Emlf Parallel Plate Tutorial  \n",
    "\n",
    "## Introduction\n",
    "\n",
    "The steps described in this tutorial, designed for novice users, show how to apply the Electro Static solver to evaluate the electric field between two metallic plates.\n",
    "\n",
    "The steps are:\n",
    "\n",
    "- Modeling\n",
    "\n",
    "  - set up the geometry with built-in primitives, in this case blocks, and basic copy-paste operations.\n",
    "\n",
    "- Simulation Settings\n",
    "\n",
    "  - specify the simulation frequency, material properties, and boundary conditions to define the physics of the problem.\n",
    "\n",
    "  - set up the grid to discretize the model and create the voxels.\n",
    "\n",
    "- Post Processing\n",
    "\n",
    "  - extract the results and learn to use different visualization features.\n",
    "\n",
    "The geometry used is shown in the [create model](#create_model) section."
   ]
  },
  {
   "cell_type": "code",
   "execution_count": 1,
   "metadata": {
    "tags": []
   },
   "outputs": [
    {
     "name": "stderr",
     "output_type": "stream",
     "text": [
      "WARNING s4l_v1.model \n",
      "  File \"/home/test/ldev/Simphony/Simphony/PythonAPI/s4l_v1/model/__init__.py\", line 47 : Cannot load model.image API. This module might not be part of this distribution. No module named 'ImageModeling'\n"
     ]
    }
   ],
   "source": [
    "import sys, os\n",
    "\n",
    "import s4l_v1\n",
    "import s4l_v1.document as document\n",
    "import s4l_v1.model as model\n",
    "import s4l_v1.simulation.emlf as lf\n",
    "import s4l_v1.analysis as analysis\n",
    "import s4l_v1.analysis.viewers as viewers\n",
    "from s4l_v1.model import Vec3, Translation\n",
    "\n",
    "import s4l_v1.units as units\n",
    "from s4l_v1._api.application import run_application, get_app_safe, print_app_info\n",
    "\n",
    "from z43_scene_viewer import Viewer\n"
   ]
  },
  {
   "cell_type": "markdown",
   "metadata": {},
   "source": [
    "## Init Project"
   ]
  },
  {
   "cell_type": "code",
   "execution_count": 2,
   "metadata": {
    "tags": []
   },
   "outputs": [],
   "source": [
    "if get_app_safe() is None:\n",
    "    run_application()\n",
    "\n",
    "app = get_app_safe()\n",
    "\n",
    "if \"TEST_PROJECT_OUTPUT_DIR\" in os.environ:\n",
    "    project_dir = os.environ[\"TEST_PROJECT_OUTPUT_DIR\"]\n",
    "else:\n",
    "    project_dir = os.path.join(os.getcwd(), \"output\")\n",
    "\n",
    "os.makedirs(project_dir, exist_ok=True)    \n",
    "\n",
    "project_path = os.path.join(project_dir, \"tutorial_emlf_parallel_plate.smash\")\n",
    "s4l_v1.document.New()\n"
   ]
  },
  {
   "cell_type": "markdown",
   "metadata": {},
   "source": [
    "## Create model\n",
    "<a id='create_model'></a>"
   ]
  },
  {
   "cell_type": "code",
   "execution_count": 3,
   "metadata": {
    "tags": []
   },
   "outputs": [],
   "source": [
    "# set modeling unit to cm\n",
    "model.SetLengthUnits( units.CentiMeter )  # not reflected in GUI!\n",
    "\n",
    "plate1 = model.CreateSolidBlock( Vec3(0,0,0), Vec3(15,15,0) )\n",
    "plate1.Name = 'Plate 1'\n",
    "plate2 = plate1.Clone()\n",
    "plate2.ApplyTransform( Translation(Vec3(0,0,3)) )\n",
    "plate2.Name = 'Plate 2'"
   ]
  },
  {
   "cell_type": "code",
   "execution_count": 4,
   "metadata": {},
   "outputs": [
    {
     "data": {
      "application/vnd.jupyter.widget-view+json": {
       "model_id": "65d4135f14a14f969dbdb6f51dc2a61a",
       "version_major": 2,
       "version_minor": 0
      },
      "text/plain": [
       "Image(value=b'', height='800', width='800')"
      ]
     },
     "metadata": {},
     "output_type": "display_data"
    },
    {
     "data": {
      "application/vnd.jupyter.widget-view+json": {
       "model_id": "72151c3a4a3c45ac8204efb4f98b7a33",
       "version_major": 2,
       "version_minor": 0
      },
      "text/plain": [
       "HBox(children=(Button(icon='refresh', layout=Layout(max_height='28px', max_width='32px', min_height='28px', mi…"
      ]
     },
     "metadata": {},
     "output_type": "display_data"
    },
    {
     "data": {
      "application/vnd.jupyter.widget-view+json": {
       "model_id": "f0bfd29f253c47c2b04000222abceb20",
       "version_major": 2,
       "version_minor": 0
      },
      "text/plain": [
       "HTML(value='Logger: ')"
      ]
     },
     "metadata": {},
     "output_type": "display_data"
    }
   ],
   "source": [
    "vw1 = Viewer(image_size=800, interactive=False)\n",
    "vw1.set_view_direction(Vec3(-1, -1, -1), Vec3(-1,1,0), Vec3(7.5, 7.5, 0), 25)"
   ]
  },
  {
   "cell_type": "markdown",
   "metadata": {},
   "source": [
    "## Create Simulation"
   ]
  },
  {
   "cell_type": "code",
   "execution_count": 5,
   "metadata": {
    "tags": []
   },
   "outputs": [],
   "source": [
    "entities = model.AllEntities()\n",
    "\n",
    "plate1 = entities['Plate 1']\n",
    "plate2 = entities['Plate 2']\n",
    "\n",
    "#Setup Settings\n",
    "sim = lf.ElectroStaticSimulation()\n",
    "sim.Name = 'Parallel Plates'\n",
    "sim.SetupSettings.TestFrequency = 1.0, units.kHz\n",
    "\n",
    "# Materials:\n",
    "# nothing to be changed for LF\n",
    "\n",
    "# Sensors\n",
    "# we keep the default settings\n",
    "\n",
    "# Boundary Conditions\n",
    "boundary_plate1 = sim.AddBoundarySettings(plate1)\n",
    "boundary_plate1.DirichletValue = 1.0\n",
    "boundary_plate1.Name = 'Dirichlet +1'\n",
    "boundary_plate2 = sim.AddBoundarySettings(plate2)\n",
    "boundary_plate2.DirichletValue = -1.0\n",
    "boundary_plate2.Name = 'Dirichlet -1'\n",
    "\n",
    "\n",
    "# Grid\n",
    "global_grid_settings = sim.GlobalGridSettings\n",
    "global_grid_settings.ManualDiscretization = True\n",
    "global_grid_settings.MaxStep = (3.0,)*3 # m.u\n",
    "global_grid_settings.Resolution = (0.075, )*3 #m.u.\n",
    "global_grid_settings.ManualPadding = True\n",
    "global_grid_settings.BottomPadding = global_grid_settings.TopPadding = (30., 30., 70.) # m.u.\n",
    "\n",
    "manual_grid_settings = sim.AddManualGridSettings([plate1,plate2])\n",
    "manual_grid_settings.MaxStep = (0.63, )*3\n",
    "manual_grid_settings.Resolution = (0.075, )*3\n",
    "\n",
    "# Voxels\n",
    "\n",
    "default_voxel = next(s for s in sim.AllSettings if isinstance(s, lf.AutomaticVoxelerSettings) )\n",
    "sim.Add(default_voxel, [plate1, plate2])\n",
    "\n",
    "# Solver settings\n",
    "sim.SolverSettings.PredefinedTolerances = sim.SolverSettings.PredefinedTolerances.enum.Medium"
   ]
  },
  {
   "cell_type": "markdown",
   "metadata": {},
   "source": [
    "## Solve"
   ]
  },
  {
   "cell_type": "code",
   "execution_count": 6,
   "metadata": {
    "tags": []
   },
   "outputs": [
    {
     "name": "stdout",
     "output_type": "stream",
     "text": [
      "starting simulation ...\n",
      "done\n"
     ]
    }
   ],
   "source": [
    "s4l_v1.document.AllSimulations.Add(sim)\n",
    "sim.UpdateGrid()\n",
    "sim.CreateVoxels(project_path)\n",
    "\n",
    "print(\"starting simulation ...\")\n",
    "sim.RunSimulation(wait=True)\n",
    "print(\"done\")\n"
   ]
  },
  {
   "cell_type": "markdown",
   "metadata": {},
   "source": [
    "## Analyse"
   ]
  },
  {
   "cell_type": "code",
   "execution_count": 7,
   "metadata": {},
   "outputs": [],
   "source": [
    "results = sim.Results()\n",
    "\n",
    "# overall field sensor\n",
    "overall_field_sensor = results[ 'Overall Field' ]"
   ]
  },
  {
   "cell_type": "markdown",
   "metadata": {},
   "source": [
    "### E-field distribution\n",
    "\n",
    "Create a slice viewer for the e field"
   ]
  },
  {
   "cell_type": "code",
   "execution_count": 8,
   "metadata": {},
   "outputs": [],
   "source": [
    "slice_field_viewer_e_field = viewers.SliceFieldViewer()\n",
    "slice_field_viewer_e_field.Inputs[0].Connect( overall_field_sensor['EM E(x,y,z,f0)'] )\n",
    "slice_field_viewer_e_field.Slice.Plane = slice_field_viewer_e_field.Slice.Plane.enum.XZ\n",
    "slice_field_viewer_e_field.Visualization.Smooth = True\n",
    "slice_field_viewer_e_field.Update(0)\n",
    "slice_field_viewer_e_field.GotoMaxSlice()\n",
    "document.AllAlgorithms.Add( slice_field_viewer_e_field )"
   ]
  },
  {
   "cell_type": "code",
   "execution_count": 9,
   "metadata": {},
   "outputs": [
    {
     "data": {
      "application/vnd.jupyter.widget-view+json": {
       "model_id": "7d6494b233964e4c8a6dd685a7c4aa1e",
       "version_major": 2,
       "version_minor": 0
      },
      "text/plain": [
       "Image(value=b'', height='800', width='800')"
      ]
     },
     "metadata": {},
     "output_type": "display_data"
    },
    {
     "data": {
      "application/vnd.jupyter.widget-view+json": {
       "model_id": "1d7ea5f711fd48399b0a6f140bc2e588",
       "version_major": 2,
       "version_minor": 0
      },
      "text/plain": [
       "HBox(children=(Button(icon='refresh', layout=Layout(max_height='28px', max_width='32px', min_height='28px', mi…"
      ]
     },
     "metadata": {},
     "output_type": "display_data"
    },
    {
     "data": {
      "application/vnd.jupyter.widget-view+json": {
       "model_id": "5f3ccff01dd048d5bff1673534129f0c",
       "version_major": 2,
       "version_minor": 0
      },
      "text/plain": [
       "HTML(value='Logger: ')"
      ]
     },
     "metadata": {},
     "output_type": "display_data"
    }
   ],
   "source": [
    "vw2 = Viewer(interactive=False)\n",
    "vw2.set_view_direction(Vec3(0, 1, 0), Vec3(1, 0, 0), Vec3(7.5, 7.5, 0), 70)"
   ]
  },
  {
   "cell_type": "code",
   "execution_count": 10,
   "metadata": {},
   "outputs": [
    {
     "data": {
      "application/vnd.jupyter.widget-view+json": {
       "model_id": "4fe3b3b02e1d4aafa1945c861eee9d4b",
       "version_major": 2,
       "version_minor": 0
      },
      "text/plain": [
       "HTML(value='18:28:50.100018 - Handled: High quality update (@ 5.7 fps)<br>18:28:50.119700 - Handled: High qual…"
      ]
     },
     "metadata": {},
     "output_type": "display_data"
    }
   ],
   "source": [
    "from time import sleep\n",
    "# sleep(1)\n",
    "vw2.display_event_history()"
   ]
  },
  {
   "cell_type": "markdown",
   "metadata": {},
   "source": [
    "### Streamline view of the E-field"
   ]
  },
  {
   "cell_type": "code",
   "execution_count": 11,
   "metadata": {},
   "outputs": [],
   "source": [
    "# Create a streamline viewer for the field\n",
    "stream_line_viewer_e_field = viewers.StreamLineViewer()\n",
    "stream_line_viewer_e_field.Inputs[0].Connect( overall_field_sensor['EM E(x,y,z,f0)'] )\n",
    "stream_line_viewer_e_field.Streamline.NumberIntegrationTimeSteps = 500\n",
    "stream_line_viewer_e_field.Streamline.IntegrationTime = 0.5\n",
    "stream_line_viewer_e_field.Streamline.SeedSource = stream_line_viewer_e_field.Streamline.SeedSource.enum.PlaneSource\n",
    "stream_line_viewer_e_field.Update(0)\n",
    "document.AllAlgorithms.Add( stream_line_viewer_e_field )"
   ]
  },
  {
   "cell_type": "code",
   "execution_count": 12,
   "metadata": {},
   "outputs": [
    {
     "data": {
      "application/vnd.jupyter.widget-view+json": {
       "model_id": "3b28c602c79845109b18cb090e768be8",
       "version_major": 2,
       "version_minor": 0
      },
      "text/plain": [
       "Image(value=b'', height='800', width='800')"
      ]
     },
     "metadata": {},
     "output_type": "display_data"
    },
    {
     "data": {
      "application/vnd.jupyter.widget-view+json": {
       "model_id": "595b71284dc341fda14b41ae36ec2b4f",
       "version_major": 2,
       "version_minor": 0
      },
      "text/plain": [
       "HBox(children=(Button(icon='refresh', layout=Layout(max_height='28px', max_width='32px', min_height='28px', mi…"
      ]
     },
     "metadata": {},
     "output_type": "display_data"
    },
    {
     "data": {
      "application/vnd.jupyter.widget-view+json": {
       "model_id": "d1624a0876254937873dce775534311c",
       "version_major": 2,
       "version_minor": 0
      },
      "text/plain": [
       "HTML(value='Logger: ')"
      ]
     },
     "metadata": {},
     "output_type": "display_data"
    }
   ],
   "source": [
    "slice_field_viewer_e_field.Visible = False\n",
    "vw3 = Viewer(image_size=800)\n",
    "vw3.set_view_direction(Vec3(0, 1, 0), Vec3(1, 0, 0), Vec3(7.5, 7.5, 0), 40)"
   ]
  }
 ],
 "metadata": {
  "kernelspec": {
   "display_name": "Python 3",
   "language": "python",
   "name": "python3"
  },
  "language_info": {
   "codemirror_mode": {
    "name": "ipython",
    "version": 3
   },
   "file_extension": ".py",
   "mimetype": "text/x-python",
   "name": "python",
   "nbconvert_exporter": "python",
   "pygments_lexer": "ipython3",
   "version": "3.6.9"
  }
 },
 "nbformat": 4,
 "nbformat_minor": 2
}